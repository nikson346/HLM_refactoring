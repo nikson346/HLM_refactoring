{
 "cells": [
  {
   "cell_type": "code",
   "execution_count": 1,
   "metadata": {},
   "outputs": [],
   "source": [
    "import os, sys\n",
    "import numpy as np\n",
    "from numpy.random import multinomial\n",
    "import process_relion\n",
    "import torch\n",
    "import torch.nn as nn\n",
    "import torch.nn.functional as F\n",
    "import torch.optim as optim\n",
    "import torch.autograd as autograd\n",
    "import itertools\n",
    "import random, math\n",
    "from collections import Counter\n",
    "import matplotlib\n",
    "import matplotlib.pyplot as plt\n",
    "import time\n",
    "from sklearn.cluster import KMeans\n",
    "from scipy.spatial.distance import cdist\n",
    "from sklearn.datasets import load_iris\n",
    "from sklearn.cluster import KMeans\n",
    "from sklearn.decomposition import PCA"
   ]
  },
  {
   "cell_type": "code",
   "execution_count": 2,
   "metadata": {},
   "outputs": [],
   "source": [
    "#GPU or CPU\n",
    "if torch.cuda.is_available():  \n",
    "  dev = \"cuda:0\" \n",
    "else:  \n",
    "  dev = \"cpu\"  \n",
    "device = torch.device(dev) "
   ]
  },
  {
   "cell_type": "code",
   "execution_count": null,
   "metadata": {},
   "outputs": [],
   "source": [
    "#data path\n",
    "file_path='F:/script/class2vec/real_star_file/HIV_cryosparc.cs'\n",
    "datatype=2 #0 is relion 3.1, 1 is relion 3, 2 is cryosparc\n",
    "\n",
    "file_name=os.path.basename(file_path)\n",
    "output_path=os.path.dirname(file_path)+'/'+os.path.splitext(file_name)[0]\n",
    "os.mkdir(output_path)"
   ]
  },
  {
   "cell_type": "code",
   "execution_count": null,
   "metadata": {},
   "outputs": [],
   "source": [
    "# parameters\n",
    "#window size\n",
    "w = 1\n",
    "\n",
    "#ignore classes\n",
    "#ignore_classes=[3,13,15,44,23,7,22,26,14,28,18,38,47,48,11,35,37]\n",
    "#ignore_classes=[1,2,3,5,8,10,14,15,17,18,19,21,22,23,24,27,28,31,32,33,34,35,37,38,40,41,44]\n",
    "#ignore_classes=[1,6,7,8,16,17,19,20,21,24,36,38,46]\n",
    "ignore_classes=[]\n",
    "\n",
    "#embedding size\n",
    "embedding_size=100\n",
    "\n",
    "#\n"
   ]
  },
  {
   "cell_type": "code",
   "execution_count": null,
   "metadata": {},
   "outputs": [],
   "source": [
    "if datatype<2:\n",
    "    file_info=process_relion.read_relion(file_path)\n",
    "    if datatype=0:\n",
    "        #read data (relion3.1)\n",
    "        dataset=file_info.getRdata_31()\n",
    "        optics=file_info.extractoptic()\n",
    "    else:\n",
    "        #read relion 3.0\n",
    "        dataset=file_info.getRdata()\n",
    "    metadata=dataset[0]\n",
    "    print(metadata)\n",
    "    data=dataset[1]\n",
    "    print(data[0])\n",
    "    corpus_information=process_relion.process_helical(dataset).extarct_helical()\n",
    "else:\n",
    "    #read cryosparc\n",
    "    dataset=np.load(file_path)\n",
    "    corpus_information=process_relion.process_cryosparc_helical(dataset).extract_helical()\n",
    "corpus_dic=corpus_information[0]\n",
    "corpus=list(corpus_dic.values())"
   ]
  },
  {
   "cell_type": "code",
   "execution_count": null,
   "metadata": {},
   "outputs": [],
   "source": [
    "## import sentence from txt\n",
    "#helical_path='./real_star_file/helical.txt'\n",
    "#corpus=[]\n",
    "#for line in open(helical_path).readlines():\n",
    "#    if len(line.strip()) == 0:\n",
    "#        continue    \n",
    "#    else:\n",
    "#        corpus.append(line.split())"
   ]
  },
  {
   "cell_type": "code",
   "execution_count": null,
   "metadata": {},
   "outputs": [],
   "source": [
    "vocabulary = set(itertools.chain.from_iterable(corpus))\n",
    "vocabulary_size = len(vocabulary)"
   ]
  },
  {
   "cell_type": "code",
   "execution_count": null,
   "metadata": {},
   "outputs": [],
   "source": [
    "word_to_index = {w: idx for (idx, w) in enumerate(vocabulary)}\n",
    "index_to_word = {idx: w for (idx, w) in enumerate(vocabulary)}"
   ]
  },
  {
   "cell_type": "code",
   "execution_count": null,
   "metadata": {},
   "outputs": [],
   "source": [
    "def cut_corpus(corpus,cut_length):\n",
    "    new_corpus=[]\n",
    "    cut_length=cut_length\n",
    "    print(len(corpus))\n",
    "    for i in range(len(corpus)):\n",
    "        lst=corpus[i]\n",
    "        n=len(lst)\n",
    "        if n<cut_length:\n",
    "            new_corpus.append(lst)\n",
    "            continue\n",
    "        cut_amount=int((n-n%cut_length)/cut_length)\n",
    "        for j in range(cut_amount-1):\n",
    "            new_corpus.append(lst[j*cut_length:(j+1)*cut_length])\n",
    "        new_corpus.append(lst[(cut_amount-1)*cut_length:])\n",
    "    print(len(new_corpus))\n",
    "    return new_corpus"
   ]
  },
  {
   "cell_type": "code",
   "execution_count": null,
   "metadata": {},
   "outputs": [],
   "source": [
    "def sample_negative(sample_size):\n",
    "    sample_probability = {}\n",
    "    word_counts = dict(Counter(list(itertools.chain.from_iterable(corpus))))\n",
    "    normalizing = sum([v**0.75 for v in word_counts.values()])\n",
    "    for word in word_counts:\n",
    "        sample_probability[word] = word_counts[word]**0.75 / normalizing\n",
    "    words = np.array(list(word_counts.keys()))\n",
    "    while True:\n",
    "        word_list = []\n",
    "        sampled_index = np.array(multinomial(sample_size, list(sample_probability.values())))\n",
    "        for index, count in enumerate(sampled_index):\n",
    "            for _ in range(count):\n",
    "                 word_list.append(words[index])\n",
    "        yield word_list"
   ]
  },
  {
   "cell_type": "code",
   "execution_count": null,
   "metadata": {},
   "outputs": [],
   "source": [
    "# convert to windoes vector\n",
    "corpus=corpus\n",
    "context_tuple_list = []\n",
    "negative_samples = sample_negative(4)\n",
    "\n",
    "for text in corpus:\n",
    "    for i, word in enumerate(text):\n",
    "        if int(word) in ignore_classes:\n",
    "            continue\n",
    "        first_context_word_index = max(0,i-w)\n",
    "        last_context_word_index = min(i+w, len(text))\n",
    "        for j in range(first_context_word_index, last_context_word_index):\n",
    "            if int(text[j]) in ignore_classes:\n",
    "                continue\n",
    "            if i!=j:\n",
    "                context_tuple_list.append((word, text[j], next(negative_samples)))\n",
    "print(\"There are {} pairs of target and context words\".format(len(context_tuple_list)))"
   ]
  },
  {
   "cell_type": "code",
   "execution_count": null,
   "metadata": {},
   "outputs": [],
   "source": [
    "def get_batches(context_tuple_list, batch_size=100):\n",
    "    random.shuffle(context_tuple_list)\n",
    "    batches = []\n",
    "    batch_target, batch_context, batch_negative = [], [], []\n",
    "    for i in range(len(context_tuple_list)):\n",
    "        batch_target.append(word_to_index[context_tuple_list[i][0]])\n",
    "        batch_context.append(word_to_index[context_tuple_list[i][1]])\n",
    "        batch_negative.append([word_to_index[w] for w in context_tuple_list[i][2]])\n",
    "        if (i+1) % batch_size == 0 or i == len(context_tuple_list)-1:\n",
    "            tensor_target = torch.from_numpy(np.array(batch_target)).long().to(device)\n",
    "            tensor_context = torch.from_numpy(np.array(batch_context)).long().to(device)\n",
    "            tensor_negative = torch.from_numpy(np.array(batch_negative)).long().to(device)\n",
    "            batches.append((tensor_target, tensor_context, tensor_negative))\n",
    "            batch_target, batch_context, batch_negative = [], [], []\n",
    "    return batches"
   ]
  },
  {
   "cell_type": "code",
   "execution_count": null,
   "metadata": {},
   "outputs": [],
   "source": [
    "class Word2Vec(nn.Module):\n",
    "\n",
    "    def __init__(self, embedding_size, vocab_size):\n",
    "        super(Word2Vec, self).__init__()\n",
    "        self.target = nn.Embedding(vocab_size, embedding_size).cuda()\n",
    "        self.context = nn.Embedding(vocab_size, embedding_size).cuda()\n",
    "\n",
    "    def forward(self, target_word, context_word, negative_example):\n",
    "        emb_target = self.target(target_word)\n",
    "        emb_context = self.context(context_word)\n",
    "        emb_product = torch.mul(emb_target, emb_context).cuda()\n",
    "        emb_product = torch.sum(emb_product, dim=1).cuda()\n",
    "        out = torch.sum(F.logsigmoid(emb_product)).cuda()\n",
    "        emb_negative = self.context(negative_example)\n",
    "        emb_product = torch.bmm(emb_negative, emb_target.unsqueeze(2)).cuda()\n",
    "        emb_product = torch.sum(emb_product, dim=1).cuda()\n",
    "        out += torch.sum(F.logsigmoid(-emb_product)).cuda()\n",
    "        return -out"
   ]
  },
  {
   "cell_type": "code",
   "execution_count": null,
   "metadata": {},
   "outputs": [],
   "source": [
    "class EarlyStopping():\n",
    "    def __init__(self, patience=5, min_percent_gain=0.1):\n",
    "        self.patience = patience\n",
    "        self.loss_list = []\n",
    "        self.min_gain = min_percent_gain / 100.\n",
    "        \n",
    "    def update_loss(self, loss):\n",
    "        self.loss_list.append(loss)\n",
    "        if len(self.loss_list) > self.patience:\n",
    "            del self.loss_list[0]\n",
    "    \n",
    "    def stop(self):\n",
    "        if len(self.loss_list) == 1:\n",
    "            return False\n",
    "        gain = (max(self.loss_list) - min(self.loss_list)) / max(self.loss_list)\n",
    "        print(\"Loss gain: {}%\".format(gain*100))\n",
    "        if gain < self.min_gain:\n",
    "            return True\n",
    "        else:\n",
    "            return False\n",
    "        "
   ]
  },
  {
   "cell_type": "code",
   "execution_count": null,
   "metadata": {},
   "outputs": [],
   "source": [
    "loss_function = nn.CrossEntropyLoss()\n",
    "net = Word2Vec(embedding_size=embedding_size, vocab_size=vocabulary_size)\n",
    "optimizer = optim.Adam(net.parameters())\n",
    "early_stopping = EarlyStopping(patience=5, min_percent_gain=1)\n",
    "\n",
    "while True:\n",
    "    losses = []\n",
    "    context_tuple_batches = get_batches(context_tuple_list, batch_size=2000)\n",
    "    for i in range(len(context_tuple_batches)):\n",
    "        net.zero_grad()\n",
    "        target_tensor, context_tensor, negative_tensor = context_tuple_batches[i]\n",
    "        loss = net(target_tensor, context_tensor, negative_tensor)\n",
    "        loss.backward()\n",
    "        optimizer.step()\n",
    "        losses.append(loss.data)\n",
    "    print(\"Loss: \", torch.mean(torch.stack(losses)))\n",
    "    early_stopping.update_loss(torch.mean(torch.stack(losses)))\n",
    "    if early_stopping.stop() is True:\n",
    "        break"
   ]
  },
  {
   "cell_type": "code",
   "execution_count": null,
   "metadata": {},
   "outputs": [],
   "source": [
    "EMBEDDINGS = net.target.weight.data.cpu()\n",
    "print('EMBEDDINGS.shape: ', EMBEDDINGS.shape)\n",
    "\n",
    "iris = load_iris()\n",
    "x = iris.data\n",
    "\n",
    "res = []\n",
    "n_cluster = range(1,9)\n",
    "for n in n_cluster:\n",
    "    print(n)\n",
    "    kmeans = KMeans(n_clusters=n)\n",
    "    kmeans.fit(EMBEDDINGS)\n",
    "    res.append(np.average(np.min(cdist(EMBEDDINGS, kmeans.cluster_centers_, 'euclidean'), axis=1)))\n",
    "        \n",
    "plt.plot(n_cluster, res)\n",
    "plt.title('elbow curve')\n",
    "plt.show()"
   ]
  },
  {
   "cell_type": "code",
   "execution_count": null,
   "metadata": {},
   "outputs": [],
   "source": [
    "# see the 2D class segments embedding\n",
    "cluster_number=6\n",
    "kmeans_best = KMeans(n_clusters=cluster_number).fit_predict(EMBEDDINGS)\n",
    "pca = PCA(n_components=2).fit_transform(EMBEDDINGS)\n",
    "EMBEDDINGS = net.target.weight.data.cpu()\n",
    "\n",
    "plt.figure(figsize = (5, 5))\n",
    "for i in range(vocabulary_size):\n",
    "    # print('vocab_idx: ', vocab_idx)\n",
    "    plt.scatter(pca[i][0], pca[i][1],color=plt.cm.RdYlBu(kmeans_best[i]/4))\n",
    "    plt.annotate(index_to_word[i], xy = (pca[i][0], pca[i][1]), \\\n",
    "        ha='right',va='bottom')\n",
    "plt.savefig(\"w2v.png\")\n",
    "plt.show()"
   ]
  },
  {
   "cell_type": "code",
   "execution_count": null,
   "metadata": {},
   "outputs": [],
   "source": [
    "word_to_cluster={}\n",
    "for i in range(cluster_number):\n",
    "    word_to_cluster[str(i)]= np.array(np.where(kmeans_best==i)).ravel()+1\n",
    "#for i in range(1,vocabulary_size+1):\n",
    "#    word_to_cluster.append((i,kmeans_best[word_to_index[str(i)]]))\n",
    "print(word_to_cluster)"
   ]
  },
  {
   "cell_type": "code",
   "execution_count": null,
   "metadata": {},
   "outputs": [],
   "source": [
    "#using the histogram method to cluster \n",
    "\n",
    "#cluster_corpus=corpus[:]\n",
    "#for i in range(cluster_number):\n",
    "#    cluster_lst=list(word_to_cluster[str(i)])\n",
    "#    for j in range(len(cluster_corpus)):\n",
    "#        filament=cluster_corpus[j]\n",
    "#        filament=[i if np.int64(x) in cluster_lst else x for x in filament]\n",
    "#        cluster_corpus[j]=filament\n",
    "\n",
    "#filament_cluster_percentage=[]\n",
    "#for filament in cluster_corpus:\n",
    "#    filament_lenghth=len(filament)\n",
    "#    pert=[]\n",
    "#    for i in range(cluster_number):\n",
    "#        cluster_per=float(filament.count(i))/filament_lenghth\n",
    "#        pert.append(cluster_per)\n",
    "#    filament_cluster_percentage.append(pert)\n",
    "\n",
    "#histogram clustering\n",
    "#pca_filaments = PCA(n_components=2).fit_transform(filament_cluster_percentage)\n",
    "#plt.figure(figsize = (5, 5))\n",
    "#for i in range(len(cluster_corpus)):\n",
    "#    plt.scatter(pca_filaments[i][0], pca_filaments[i][1],color='blue')\n",
    "#plt.savefig(\"cluster.png\")\n",
    "#plt.show()"
   ]
  },
  {
   "cell_type": "code",
   "execution_count": null,
   "metadata": {},
   "outputs": [],
   "source": [
    "filament_cluster_number=2\n",
    "filament_score=[]\n",
    "for filament in corpus:\n",
    "    score=torch.zeros(embedding_size)\n",
    "    counts=0\n",
    "    for i in filament:\n",
    "        if int(i) in ignore_classes:\n",
    "            continue\n",
    "        counts+=1\n",
    "        score=score+EMBEDDINGS[word_to_index[i]]\n",
    "    if counts==0:\n",
    "        continue\n",
    "    score=score/counts\n",
    "    print(counts)\n",
    "    filament_score.append(np.array(score))"
   ]
  },
  {
   "cell_type": "code",
   "execution_count": null,
   "metadata": {},
   "outputs": [],
   "source": [
    "#print(filament_score)\n",
    "from sklearn.mixture import GaussianMixture\n",
    "pca_sum = PCA(n_components=2).fit_transform(filament_score)\n",
    "cluster_pca = KMeans(n_clusters=filament_cluster_number).fit_predict(pca_sum)"
   ]
  },
  {
   "cell_type": "code",
   "execution_count": null,
   "metadata": {},
   "outputs": [],
   "source": [
    "plt.figure(figsize = (20, 20))\n",
    "for i in range(len(corpus)):\n",
    "    plt.scatter(pca_sum[i][0], pca_sum[i][1],color='blue')\n",
    "plt.savefig(output_path+'/'+os.path.splitext(file_name)[0]+\"_pca.png\",bbox_inches='tight', pad_inches=0.01)\n",
    "plt.show()\n",
    "# color=plt.cm.RdYlBu(pca_Clustering[i]/4)"
   ]
  },
  {
   "cell_type": "code",
   "execution_count": null,
   "metadata": {},
   "outputs": [],
   "source": [
    "import umap\n",
    "from sklearn.cluster import SpectralClustering\n",
    "from sklearn.mixture import GaussianMixture\n",
    "reducer = umap.UMAP()\n",
    "umap = reducer.fit_transform(filament_score)\n",
    "cluster_umap = SpectralClustering(n_clusters=filament_cluster_number).fit_predict(umap)"
   ]
  },
  {
   "cell_type": "code",
   "execution_count": null,
   "metadata": {
    "scrolled": true
   },
   "outputs": [],
   "source": [
    "plt.figure(figsize = (20, 20))\n",
    "for i in range(len(corpus)):\n",
    "    plt.scatter(umap[i][0], umap[i][1],color=plt.cm.RdYlBu(cluster_umap[i]/4))\n",
    "plt.savefig(output_path+'/'+os.path.splitext(file_name)[0]+\"_ignore_umap.png\",bbox_inches='tight', pad_inches=0.01)\n",
    "plt.show()\n",
    "# color=plt.cm.RdYlBu(kmeans_umap[i]/4)"
   ]
  },
  {
   "cell_type": "code",
   "execution_count": null,
   "metadata": {},
   "outputs": [],
   "source": [
    "#from sklearn.manifold import MDS\n",
    "#MDS = MDS(n_components=2).fit_transform(filament_score)"
   ]
  },
  {
   "cell_type": "code",
   "execution_count": null,
   "metadata": {},
   "outputs": [],
   "source": [
    "#plt.figure(figsize = (20, 20))\n",
    "#for i in range(len(cluster_corpus)):\n",
    "#    plt.scatter(MDS[i][0], MDS[i][1],color='blue')\n",
    "#plt.savefig(os.path.splitext(file_path)[0]+\"_MDS.png\")\n",
    "#plt.show()"
   ]
  },
  {
   "cell_type": "code",
   "execution_count": null,
   "metadata": {},
   "outputs": [],
   "source": [
    "for i in range(filament_cluster_number):\n",
    "    cluster_name='cluster'+str(i)\n",
    "    cluster_nameID='clusterID'+str(i)\n",
    "    locals()[cluster_name]=[]\n",
    "    locals()[cluster_nameID]=[]\n",
    "data_line=0\n",
    "cluster_choice=cluster_umap\n",
    "for i in range(len(cluster_choice)):\n",
    "    lst=corpus[i]\n",
    "    cluster_number=cluster_choice[i]\n",
    "    cluster_name='cluster'+str(cluster_number)\n",
    "    cluster_nameID='clusterID'+str(cluster_number)\n",
    "    for j in range(len(lst)):\n",
    "        locals()[cluster_name].append(data[data_line])\n",
    "        locals()[cluster_nameID].append(data[data_line][6][19:21])\n",
    "        data_line+=1"
   ]
  },
  {
   "cell_type": "code",
   "execution_count": null,
   "metadata": {},
   "outputs": [],
   "source": [
    "# check rate of successful\n",
    "labels=['38','29']\n",
    "distribution_hist_all=[]\n",
    "for i in range(filament_cluster_number):\n",
    "    distribution_hist=[]\n",
    "    lst=locals()['clusterID'+str(i)]\n",
    "    for j in range(filament_cluster_number):\n",
    "        group_percentage=lst.count(labels[j])/len(lst)\n",
    "        distribution_hist.append(group_percentage)\n",
    "    distribution_hist_all.append(distribution_hist)\n",
    "print(distribution_hist_all)"
   ]
  },
  {
   "cell_type": "code",
   "execution_count": null,
   "metadata": {},
   "outputs": [],
   "source": [
    "print(len(data),len(cluster0),len(cluster1))"
   ]
  },
  {
   "cell_type": "code",
   "execution_count": null,
   "metadata": {
    "scrolled": true
   },
   "outputs": [],
   "source": [
    "fig, ax = plt.subplots(1,filament_cluster_number)\n",
    "labels_name=['PHF','SF']\n",
    "for i in range(filament_cluster_number):\n",
    "    ax[i].bar(range(filament_cluster_number),distribution_hist_all[i],tick_label =labels_name)\n",
    "    particle_number=len(locals()['cluster'+str(i)])\n",
    "    ax[i].set_title('cluster{} amount: {}'.format(i,particle_number))\n",
    "#plt.savefig('./confusion_matrix/'+\"10230_tau_distr_Loss_per10-2.png\")"
   ]
  },
  {
   "cell_type": "code",
   "execution_count": null,
   "metadata": {},
   "outputs": [],
   "source": [
    "# write relion"
   ]
  },
  {
   "cell_type": "code",
   "execution_count": null,
   "metadata": {},
   "outputs": [],
   "source": [
    "for i in range(filament_cluster_number):\n",
    "    cluster_name='cluster'+str(i)\n",
    "    data_cluster=locals()[cluster_name]\n",
    "    if relion_31 is True:\n",
    "        output=process_relion.output_star(output_path+'/'+file_name,i,data_cluster,metadata)\n",
    "        output.opticgroup(optics)\n",
    "        output.writecluster()\n",
    "    else:\n",
    "        output=process_relion.output_star(output_path+'/'+file_name,i,data_cluster,metadata)\n",
    "        output.writemetadata()\n",
    "        output.writecluster()"
   ]
  },
  {
   "cell_type": "code",
   "execution_count": null,
   "metadata": {},
   "outputs": [],
   "source": [
    "with open('cluster_umap.npy', 'wb') as f:\n",
    "    np.save(f, umap)"
   ]
  },
  {
   "cell_type": "code",
   "execution_count": null,
   "metadata": {},
   "outputs": [],
   "source": []
  },
  {
   "cell_type": "code",
   "execution_count": null,
   "metadata": {},
   "outputs": [],
   "source": []
  }
 ],
 "metadata": {
  "kernelspec": {
   "display_name": "Python 3",
   "language": "python",
   "name": "python3"
  },
  "language_info": {
   "codemirror_mode": {
    "name": "ipython",
    "version": 3
   },
   "file_extension": ".py",
   "mimetype": "text/x-python",
   "name": "python",
   "nbconvert_exporter": "python",
   "pygments_lexer": "ipython3",
   "version": "3.7.4"
  },
  "toc": {
   "base_numbering": 1,
   "nav_menu": {},
   "number_sections": true,
   "sideBar": true,
   "skip_h1_title": false,
   "title_cell": "Table of Contents",
   "title_sidebar": "Contents",
   "toc_cell": false,
   "toc_position": {},
   "toc_section_display": true,
   "toc_window_display": false
  },
  "varInspector": {
   "cols": {
    "lenName": 16,
    "lenType": 16,
    "lenVar": 40
   },
   "kernels_config": {
    "python": {
     "delete_cmd_postfix": "",
     "delete_cmd_prefix": "del ",
     "library": "var_list.py",
     "varRefreshCmd": "print(var_dic_list())"
    },
    "r": {
     "delete_cmd_postfix": ") ",
     "delete_cmd_prefix": "rm(",
     "library": "var_list.r",
     "varRefreshCmd": "cat(var_dic_list()) "
    }
   },
   "types_to_exclude": [
    "module",
    "function",
    "builtin_function_or_method",
    "instance",
    "_Feature"
   ],
   "window_display": false
  }
 },
 "nbformat": 4,
 "nbformat_minor": 2
}
