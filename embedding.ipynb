{
 "cells": [
  {
   "cell_type": "code",
   "execution_count": 6,
   "metadata": {},
   "outputs": [],
   "source": [
    "import os, sys\n",
    "import numpy as np\n",
    "from numpy.random import multinomial\n",
    "import process_relion\n",
    "import torch\n",
    "import torch.nn as nn\n",
    "import torch.nn.functional as F\n",
    "import torch.optim as optim\n",
    "import torch.autograd as autograd\n",
    "import itertools\n",
    "import random, math\n",
    "from collections import Counter\n",
    "import matplotlib\n",
    "import matplotlib.pyplot as plt\n",
    "import time\n",
    "from sklearn.cluster import KMeans\n",
    "from scipy.spatial.distance import cdist\n",
    "from sklearn.datasets import load_iris\n",
    "from sklearn.cluster import KMeans\n",
    "from sklearn.decomposition import PCA"
   ]
  },
  {
   "cell_type": "code",
   "execution_count": 7,
   "metadata": {},
   "outputs": [],
   "source": [
    "#GPU or CPU\n",
    "if torch.cuda.is_available():  \n",
    "  dev = \"cuda:0\" \n",
    "else:  \n",
    "  dev = \"cpu\"  \n",
    "device = torch.device(dev) "
   ]
  },
  {
   "cell_type": "code",
   "execution_count": 8,
   "metadata": {},
   "outputs": [],
   "source": [
    "#data path\n",
    "file_path='F:/script/class2vec/real_star_file/HIV_cryosparc.cs'\n",
    "datatype=2 #0 is relion 3.1, 1 is relion 3, 2 is cryosparc\n",
    "\n",
    "file_name=os.path.basename(file_path)\n",
    "output_path=os.path.dirname(file_path)+'/'+os.path.splitext(file_name)[0]\n",
    "os.mkdir(output_path)"
   ]
  },
  {
   "cell_type": "code",
   "execution_count": 9,
   "metadata": {},
   "outputs": [],
   "source": [
    "# parameters\n",
    "#window size\n",
    "w = 1\n",
    "\n",
    "#ignore classes\n",
    "#ignore_classes=[3,13,15,44,23,7,22,26,14,28,18,38,47,48,11,35,37]\n",
    "#ignore_classes=[1,2,3,5,8,10,14,15,17,18,19,21,22,23,24,27,28,31,32,33,34,35,37,38,40,41,44]\n",
    "#ignore_classes=[1,6,7,8,16,17,19,20,21,24,36,38,46]\n",
    "ignore_classes=[]\n",
    "\n",
    "#embedding size\n",
    "embedding_size=100\n",
    "\n",
    "#\n"
   ]
  },
  {
   "cell_type": "code",
   "execution_count": 11,
   "metadata": {},
   "outputs": [
    {
     "name": "stdout",
     "output_type": "stream",
     "text": [
      "finish converting\n",
      "[17, 19, 15, 17, 15, 14, 18, 5, 5, 5, 19, 5, 14, 17, 17, 14, 17, 5, 5, 5, 14, 19, 14, 19, 17, 4, 15, 14, 19, 18, 5, 19, 5, 19, 14, 17, 17, 5, 17, 5, 5, 5, 19, 17, 14, 14, 5, 14, 17, 15, 14, 5, 19, 5, 19, 14, 17, 14, 19, 13, 19, 13, 5, 5, 14, 19, 13, 5, 14, 18, 14, 18, 5, 19, 5, 19, 5, 5, 15, 17, 17, 19, 5, 5, 5, 5, 19, 14, 17, 19, 5, 14, 17, 14, 19, 5, 19, 5, 14, 14, 14, 17, 19, 5, 5, 5, 14, 19, 17, 14, 19, 17, 15, 18, 14, 19, 5, 19, 5, 5, 14, 17, 14, 17, 17, 5, 5, 5, 14, 17, 19, 17, 17, 19, 14, 5, 17, 5, 14, 19, 5, 19, 14, 17, 14, 5, 5, 5, 5, 14, 5, 17, 19, 13, 17, 19, 14, 17, 18, 5, 19, 5, 19, 5, 17, 15, 18, 5, 5, 5]\n",
      "[2, 14, 8, 14, 3, 15, 15, 15, 15, 19, 15, 15, 19, 19, 15, 19, 9, 19, 2, 8, 14, 8, 14, 13, 14, 14, 8, 14, 19, 15, 3, 15, 15, 19, 15, 19, 19, 6, 19, 8, 14, 13, 2, 13, 8, 14, 19, 14, 3, 15, 15, 19, 15, 19, 9, 19, 19, 18, 19, 6, 19, 8, 15, 8, 14, 8, 14, 15, 15, 19, 15, 19, 9, 15, 16, 19, 19, 19, 19, 8, 2, 8, 14, 8, 14, 3, 15, 14, 19, 14, 3, 15, 3, 15, 15, 19, 19, 19, 15, 8, 14, 8, 14, 8, 15, 8, 15, 8, 19, 14, 15, 15, 15, 15, 15, 19, 19, 15, 14, 15, 14, 19, 8, 3, 8, 8, 8, 14, 6, 15, 15, 15, 15, 16, 15, 15, 15, 19, 19, 3, 19, 8, 16, 8, 8, 8, 8, 3, 15, 8, 15, 14, 15, 15, 19, 15, 19, 19, 16, 19]\n",
      "[6, 6, 6, 6, 6, 2, 2, 2, 6, 3, 3, 3, 3, 9, 8, 8, 9, 3, 3, 9, 9, 9, 9, 9, 2, 2, 6, 2, 2, 2, 2, 2, 8, 8, 3, 15, 3, 9, 9, 15, 9, 9, 3, 15, 15, 2, 2, 2, 2, 2, 2, 2, 3, 3, 3, 8, 8, 15, 9, 9, 9, 9, 9, 9, 9, 2, 2, 2, 2, 2, 3, 3, 2, 8, 8, 8, 3, 3, 15, 15, 9, 9, 9, 9, 9, 6, 2, 2, 2, 2, 2, 2, 2, 2, 3, 3, 3, 3, 15, 9, 9, 9, 6, 9, 9, 6, 9, 9, 2, 2, 2, 2, 2, 3, 2, 3, 3, 3, 3, 3, 3, 3, 3, 15, 9, 9, 9, 9, 2, 6, 6, 9, 2, 2, 3, 2, 2, 3, 3, 3, 3, 3, 3, 3, 15, 2, 2, 9, 9]\n",
      "[6, 9, 9, 9, 9, 9, 9, 3, 3, 9, 9, 3, 8, 2, 3, 3, 2, 2, 2, 2, 2, 9, 9, 9, 9, 9, 9, 9, 15, 9, 15, 15, 3, 8, 8, 2, 2, 2, 2, 2, 2, 15, 6, 2, 9, 9, 9, 9, 9, 15, 15, 8, 8, 8, 2, 2, 2, 2, 14, 2, 2, 2, 2, 2, 9, 9, 9, 3, 9, 3, 3, 9, 9, 3, 8, 2, 2, 8, 2, 2, 2, 2, 9, 15, 9, 9, 15, 9, 9, 9, 15, 15, 3, 3, 3, 3, 2, 8, 2, 2, 2, 19, 2, 2, 2, 2, 9, 9, 9, 9, 3, 3, 3, 9, 3, 8, 6, 8, 3, 3, 2, 2, 2, 2, 2, 9, 9, 9, 9, 3, 15, 3, 3, 9, 3, 3, 3, 3, 3, 2, 2, 2, 2, 2, 9, 2]\n",
      "[4, 4, 15, 18, 18, 18, 18, 18, 13, 15, 13, 15, 13, 15, 15, 13, 13, 4, 19, 4, 19, 4, 19, 18, 18, 4, 18, 4, 18, 14, 15, 18, 14, 13, 14, 18, 14, 13, 4, 13, 13, 13, 4, 4, 4, 4, 18, 14, 4, 4, 18, 18, 18, 18, 18, 14, 13, 13, 14, 13, 13, 13, 4, 13, 13, 4, 4, 4, 4, 4, 5, 18, 18, 18, 18, 18, 14, 18, 14, 18, 15, 13, 15, 13, 15, 13, 4, 4, 4, 14, 4, 4, 3, 14, 4, 14, 18, 18, 14, 18, 14, 9, 18, 18, 13, 13, 13, 13, 13, 4, 15, 4, 19, 14, 19, 15, 4, 15, 18, 18, 3, 18, 18, 9, 13, 5, 18, 13, 13, 13, 13, 15, 13, 2, 4, 4, 5, 4, 14, 16, 18, 18, 4, 16, 14, 18, 18, 14, 13, 14, 13, 15, 18, 13, 4, 13, 19, 13, 4, 15, 4, 14, 16, 14, 5, 18, 16, 14, 16]\n",
      "[5, 17, 17, 19, 17, 17, 17, 17, 17, 17, 17, 5, 14, 5, 5, 14, 18, 14, 13, 14, 14, 13, 19, 4, 4, 19, 13, 13, 4, 4, 19, 19, 4, 19, 18, 18, 18, 18, 14, 18, 18, 18, 13, 13, 13, 13, 19, 19, 13, 19, 4, 19, 19, 4, 19, 4, 4, 19, 18, 18, 18, 14, 13, 18, 18, 18, 13, 13, 13, 13, 19, 2, 19, 4, 4, 19, 13, 18, 4, 4, 19, 18, 18, 18, 14, 13, 13, 14, 18, 13, 4, 13, 13, 19, 13, 4, 4, 4, 13, 14, 18, 4, 4, 18, 4, 18, 18, 14, 18, 18, 13, 13, 13, 18, 18, 13, 13, 13, 13, 4, 4, 19, 4, 4, 19, 13, 13, 4, 13, 14, 18, 18, 18, 14, 13, 13, 14, 18, 13, 19, 13, 13, 19, 13, 19, 4, 4, 4, 13, 13, 18, 13, 14, 14, 14]\n",
      "[19, 4, 19, 2, 14, 4, 14, 14, 14, 14, 14, 15, 18, 14, 13, 13, 13, 13, 14, 13, 4, 13, 4, 14, 4, 4, 4, 4, 14, 14, 14, 14, 14, 4, 14, 18, 18, 14, 18, 13, 13, 13, 14, 14, 13, 13, 13, 2, 4, 4, 4, 4, 4, 3, 14, 14, 14, 14, 4, 14, 14, 18, 14, 14, 13, 13, 13, 13, 14, 13, 15, 13, 19, 4, 4, 4, 4, 4, 14, 14, 18, 14, 14, 15, 18, 18, 14, 13, 18, 13, 13, 13, 13, 13, 13, 4, 13, 4, 14, 4, 14, 4, 18, 14, 18, 14, 14, 9, 14, 18, 14, 18, 18, 9, 13, 13, 13, 14, 4, 14, 13, 14, 14, 14, 14, 14, 4, 14, 14, 18, 14, 18, 2, 14, 18, 14, 6, 13, 13]\n",
      "[14, 4, 18, 4, 4, 18, 18, 4, 4, 4, 4, 13, 13, 13, 13, 13, 14, 18, 13, 13, 14, 18, 18, 18, 18, 18, 4, 14, 14, 4, 14, 4, 4, 4, 4, 4, 19, 13, 13, 13, 18, 18, 13, 13, 18, 18, 4, 14, 14, 18, 4, 4, 4, 4, 4, 4, 4, 13, 4, 4, 13, 13, 13, 13, 18, 18, 14, 18, 18, 14, 18, 18, 14, 18, 4, 4, 4, 4, 4, 13, 4, 13, 13, 4, 13, 18, 13, 13, 14, 18, 18, 14, 18, 4, 4, 4, 4, 4, 4, 4, 4, 4, 4, 13, 13, 4, 13, 4, 13, 13, 13, 13, 13, 14, 18, 14, 14, 4, 18, 14, 14, 18, 14, 4, 4, 4, 4, 4, 13, 13, 13, 13, 18]\n",
      "[2, 2, 16, 16, 16, 16, 16, 15, 16, 16, 16, 16, 8, 2, 2, 2, 8, 2, 6, 2, 2, 16, 16, 16, 16, 16, 16, 16, 16, 16, 16, 8, 2, 16, 2, 2, 8, 16, 2, 2, 16, 16, 16, 16, 9, 3, 16, 16, 16, 16, 8, 16, 16, 16, 16, 8, 16, 16, 2, 16, 8, 6, 6, 6, 16, 16, 16, 16, 16, 16, 16, 16, 16, 16, 8, 2, 16, 16, 16, 8, 6, 2, 2, 16, 16, 16, 16, 16, 16, 16, 16, 16, 16, 16, 16, 16, 16, 2, 8, 6, 15, 2, 16, 16, 16, 6, 6, 16, 16, 16, 16, 16, 16, 3, 16, 16, 16, 8, 16, 16, 16, 16, 6, 6, 6, 2, 16, 16, 16, 16, 16, 16, 16, 16, 16, 3, 2, 16, 16, 8, 16, 8, 2, 6, 6, 15, 16, 16, 6, 16, 16, 16, 16, 16, 16, 16, 16, 8, 16, 16, 8, 8, 16, 16]\n",
      "[15, 9, 19, 9, 9, 19, 19, 6, 6, 19, 19, 14, 14, 15, 2, 2, 2, 14, 15, 15, 19, 19, 14, 19, 19, 19, 6, 19, 19, 19, 14, 6, 19, 19, 2, 14, 3, 2, 15, 15, 19, 19, 15, 15, 6, 19, 19, 16, 14, 14, 6, 14, 14, 14, 2, 2, 15, 14, 19, 19, 15, 15, 15, 19, 9, 15, 19, 19, 6, 19, 19, 6, 14, 16, 19, 14, 8, 3, 19, 14, 15, 15, 15, 15, 15, 15, 15, 19, 6, 19, 14, 19, 8, 14, 6, 14, 14, 14, 14, 15, 3, 19, 19, 15, 15, 15, 15, 19, 15, 19, 19, 6, 6, 19, 6, 19, 8, 18, 14, 14, 8, 3, 15, 15, 15, 19, 15, 15, 15, 15, 19, 14, 19, 19, 19, 8, 14, 6, 8, 14, 14, 8, 15, 3, 19, 19, 15, 15, 15, 19, 19, 15, 19, 14, 6, 6, 14, 19, 14, 2, 18, 14, 14, 8]\n"
     ]
    }
   ],
   "source": [
    "if datatype<2:\n",
    "    file_info=process_relion.read_relion(file_path)\n",
    "    if datatype==0:\n",
    "        #read data (relion3.1)\n",
    "        dataset=file_info.getRdata_31()\n",
    "        optics=file_info.extractoptic()\n",
    "    else:\n",
    "        #read relion 3.0\n",
    "        dataset=file_info.getRdata()\n",
    "    metadata=dataset[0]\n",
    "    print(metadata)\n",
    "    data=dataset[1]\n",
    "    print(data[0])\n",
    "    corpus_information=process_relion.process_helical(dataset).extarct_helical()\n",
    "else:\n",
    "    #read cryosparc\n",
    "    dataset=np.load(file_path)\n",
    "    corpus_information=process_relion.process_cryosparc_helical(dataset).extract_helical()\n",
    "corpus_dic=corpus_information[0]\n",
    "corpus=list(corpus_dic.values())"
   ]
  },
  {
   "cell_type": "code",
   "execution_count": null,
   "metadata": {},
   "outputs": [],
   "source": [
    "#k-mer seperation"
   ]
  },
  {
   "cell_type": "code",
   "execution_count": 12,
   "metadata": {},
   "outputs": [],
   "source": [
    "## import sentence from txt\n",
    "#helical_path='./real_star_file/helical.txt'\n",
    "#corpus=[]\n",
    "#for line in open(helical_path).readlines():\n",
    "#    if len(line.strip()) == 0:\n",
    "#        continue    \n",
    "#    else:\n",
    "#        corpus.append(line.split())"
   ]
  },
  {
   "cell_type": "code",
   "execution_count": 13,
   "metadata": {},
   "outputs": [],
   "source": [
    "vocabulary = set(itertools.chain.from_iterable(corpus))\n",
    "vocabulary_size = len(vocabulary)"
   ]
  },
  {
   "cell_type": "code",
   "execution_count": 14,
   "metadata": {},
   "outputs": [],
   "source": [
    "word_to_index = {w: idx for (idx, w) in enumerate(vocabulary)}\n",
    "index_to_word = {idx: w for (idx, w) in enumerate(vocabulary)}"
   ]
  },
  {
   "cell_type": "code",
   "execution_count": 15,
   "metadata": {},
   "outputs": [],
   "source": [
    "def cut_corpus(corpus,cut_length):\n",
    "    new_corpus=[]\n",
    "    cut_length=cut_length\n",
    "    print(len(corpus))\n",
    "    for i in range(len(corpus)):\n",
    "        lst=corpus[i]\n",
    "        n=len(lst)\n",
    "        if n<cut_length:\n",
    "            new_corpus.append(lst)\n",
    "            continue\n",
    "        cut_amount=int((n-n%cut_length)/cut_length)\n",
    "        for j in range(cut_amount-1):\n",
    "            new_corpus.append(lst[j*cut_length:(j+1)*cut_length])\n",
    "        new_corpus.append(lst[(cut_amount-1)*cut_length:])\n",
    "    print(len(new_corpus))\n",
    "    return new_corpus"
   ]
  },
  {
   "cell_type": "code",
   "execution_count": 16,
   "metadata": {},
   "outputs": [],
   "source": [
    "def sample_negative(sample_size):\n",
    "    sample_probability = {}\n",
    "    word_counts = dict(Counter(list(itertools.chain.from_iterable(corpus))))\n",
    "    normalizing = sum([v**0.75 for v in word_counts.values()])\n",
    "    for word in word_counts:\n",
    "        sample_probability[word] = word_counts[word]**0.75 / normalizing\n",
    "    words = np.array(list(word_counts.keys()))\n",
    "    while True:\n",
    "        word_list = []\n",
    "        sampled_index = np.array(multinomial(sample_size, list(sample_probability.values())))\n",
    "        for index, count in enumerate(sampled_index):\n",
    "            for _ in range(count):\n",
    "                 word_list.append(words[index])\n",
    "        yield word_list"
   ]
  },
  {
   "cell_type": "code",
   "execution_count": 17,
   "metadata": {},
   "outputs": [
    {
     "name": "stdout",
     "output_type": "stream",
     "text": [
      "There are 5492 pairs of target and context words\n"
     ]
    }
   ],
   "source": [
    "# convert to windoes vector\n",
    "corpus=corpus\n",
    "context_tuple_list = []\n",
    "negative_samples = sample_negative(4)\n",
    "\n",
    "for text in corpus:\n",
    "    for i, word in enumerate(text):\n",
    "        if int(word) in ignore_classes:\n",
    "            continue\n",
    "        first_context_word_index = max(0,i-w)\n",
    "        last_context_word_index = min(i+w, len(text))\n",
    "        for j in range(first_context_word_index, last_context_word_index):\n",
    "            if int(text[j]) in ignore_classes:\n",
    "                continue\n",
    "            if i!=j:\n",
    "                context_tuple_list.append((word, text[j], next(negative_samples)))\n",
    "print(\"There are {} pairs of target and context words\".format(len(context_tuple_list)))"
   ]
  },
  {
   "cell_type": "code",
   "execution_count": 18,
   "metadata": {},
   "outputs": [],
   "source": [
    "def get_batches(context_tuple_list, batch_size=100):\n",
    "    random.shuffle(context_tuple_list)\n",
    "    batches = []\n",
    "    batch_target, batch_context, batch_negative = [], [], []\n",
    "    for i in range(len(context_tuple_list)):\n",
    "        batch_target.append(word_to_index[context_tuple_list[i][0]])\n",
    "        batch_context.append(word_to_index[context_tuple_list[i][1]])\n",
    "        batch_negative.append([word_to_index[w] for w in context_tuple_list[i][2]])\n",
    "        if (i+1) % batch_size == 0 or i == len(context_tuple_list)-1:\n",
    "            tensor_target = torch.from_numpy(np.array(batch_target)).long().to(device)\n",
    "            tensor_context = torch.from_numpy(np.array(batch_context)).long().to(device)\n",
    "            tensor_negative = torch.from_numpy(np.array(batch_negative)).long().to(device)\n",
    "            batches.append((tensor_target, tensor_context, tensor_negative))\n",
    "            batch_target, batch_context, batch_negative = [], [], []\n",
    "    return batches"
   ]
  },
  {
   "cell_type": "code",
   "execution_count": 19,
   "metadata": {},
   "outputs": [],
   "source": [
    "class Word2Vec(nn.Module):\n",
    "\n",
    "    def __init__(self, embedding_size, vocab_size):\n",
    "        super(Word2Vec, self).__init__()\n",
    "        self.target = nn.Embedding(vocab_size, embedding_size).cuda()\n",
    "        self.context = nn.Embedding(vocab_size, embedding_size).cuda()\n",
    "\n",
    "    def forward(self, target_word, context_word, negative_example):\n",
    "        emb_target = self.target(target_word)\n",
    "        emb_context = self.context(context_word)\n",
    "        emb_product = torch.mul(emb_target, emb_context).cuda()\n",
    "        emb_product = torch.sum(emb_product, dim=1).cuda()\n",
    "        out = torch.sum(F.logsigmoid(emb_product)).cuda()\n",
    "        emb_negative = self.context(negative_example)\n",
    "        emb_product = torch.bmm(emb_negative, emb_target.unsqueeze(2)).cuda()\n",
    "        emb_product = torch.sum(emb_product, dim=1).cuda()\n",
    "        out += torch.sum(F.logsigmoid(-emb_product)).cuda()\n",
    "        return -out"
   ]
  },
  {
   "cell_type": "code",
   "execution_count": 20,
   "metadata": {},
   "outputs": [],
   "source": [
    "class EarlyStopping():\n",
    "    def __init__(self, patience=5, min_percent_gain=0.1):\n",
    "        self.patience = patience\n",
    "        self.loss_list = []\n",
    "        self.min_gain = min_percent_gain / 100.\n",
    "        \n",
    "    def update_loss(self, loss):\n",
    "        self.loss_list.append(loss)\n",
    "        if len(self.loss_list) > self.patience:\n",
    "            del self.loss_list[0]\n",
    "    \n",
    "    def stop(self):\n",
    "        if len(self.loss_list) == 1:\n",
    "            return False\n",
    "        gain = (max(self.loss_list) - min(self.loss_list)) / max(self.loss_list)\n",
    "        print(\"Loss gain: {}%\".format(gain*100))\n",
    "        if gain < self.min_gain:\n",
    "            return True\n",
    "        else:\n",
    "            return False\n",
    "        "
   ]
  },
  {
   "cell_type": "code",
   "execution_count": 21,
   "metadata": {},
   "outputs": [
    {
     "name": "stdout",
     "output_type": "stream",
     "text": [
      "Loss:  tensor(21876.7012, device='cuda:0')\n",
      "Loss:  tensor(21343.8887, device='cuda:0')\n",
      "Loss gain: 2.4355249404907227%\n",
      "Loss:  tensor(20828.3145, device='cuda:0')\n",
      "Loss gain: 4.792252063751221%\n",
      "Loss:  tensor(20318.8203, device='cuda:0')\n",
      "Loss gain: 7.121187210083008%\n",
      "Loss:  tensor(19818.9453, device='cuda:0')\n",
      "Loss gain: 9.406152725219727%\n",
      "Loss:  tensor(19326.9141, device='cuda:0')\n",
      "Loss gain: 9.449892044067383%\n",
      "Loss:  tensor(18844.9297, device='cuda:0')\n",
      "Loss gain: 9.522541046142578%\n",
      "Loss:  tensor(18370.0605, device='cuda:0')\n",
      "Loss gain: 9.590909957885742%\n",
      "Loss:  tensor(17903.8047, device='cuda:0')\n",
      "Loss gain: 9.66318130493164%\n",
      "Loss:  tensor(17447.2773, device='cuda:0')\n",
      "Loss gain: 9.72548770904541%\n",
      "Loss:  tensor(17002.0527, device='cuda:0')\n",
      "Loss gain: 9.779165267944336%\n",
      "Loss:  tensor(16565.5039, device='cuda:0')\n",
      "Loss gain: 9.823357582092285%\n",
      "Loss:  tensor(16138.7051, device='cuda:0')\n",
      "Loss gain: 9.858796119689941%\n",
      "Loss:  tensor(15727.0498, device='cuda:0')\n",
      "Loss gain: 9.859576225280762%\n",
      "Loss:  tensor(15319.7373, device='cuda:0')\n",
      "Loss gain: 9.89477825164795%\n",
      "Loss:  tensor(14928.4414, device='cuda:0')\n",
      "Loss gain: 9.88235855102539%\n",
      "Loss:  tensor(14541.2793, device='cuda:0')\n",
      "Loss gain: 9.898103713989258%\n",
      "Loss:  tensor(14171.1045, device='cuda:0')\n",
      "Loss gain: 9.893434524536133%\n",
      "Loss:  tensor(13808.3047, device='cuda:0')\n",
      "Loss gain: 9.865917205810547%\n",
      "Loss:  tensor(13457.0459, device='cuda:0')\n",
      "Loss gain: 9.856324195861816%\n",
      "Loss:  tensor(13108.6904, device='cuda:0')\n",
      "Loss gain: 9.851876258850098%\n",
      "Loss:  tensor(12771.9707, device='cuda:0')\n",
      "Loss gain: 9.873146057128906%\n",
      "Loss:  tensor(12440.6270, device='cuda:0')\n",
      "Loss gain: 9.904747009277344%\n",
      "Loss:  tensor(12119.9092, device='cuda:0')\n",
      "Loss gain: 9.936331748962402%\n",
      "Loss:  tensor(11808.3584, device='cuda:0')\n",
      "Loss gain: 9.919617652893066%\n",
      "Loss:  tensor(11500.3975, device='cuda:0')\n",
      "Loss gain: 9.95596694946289%\n",
      "Loss:  tensor(11203.0078, device='cuda:0')\n",
      "Loss gain: 9.94820499420166%\n",
      "Loss:  tensor(10915.5312, device='cuda:0')\n",
      "Loss gain: 9.937186241149902%\n",
      "Loss:  tensor(10634.5742, device='cuda:0')\n",
      "Loss gain: 9.940281867980957%\n",
      "Loss:  tensor(10363.6904, device='cuda:0')\n",
      "Loss gain: 9.88406753540039%\n",
      "Loss:  tensor(10101.0791, device='cuda:0')\n",
      "Loss gain: 9.836008071899414%\n",
      "Loss:  tensor(9842.9141, device='cuda:0')\n",
      "Loss gain: 9.826522827148438%\n",
      "Loss:  tensor(9596.0801, device='cuda:0')\n",
      "Loss gain: 9.765262603759766%\n",
      "Loss:  tensor(9352.4160, device='cuda:0')\n",
      "Loss gain: 9.75786018371582%\n",
      "Loss:  tensor(9119.1387, device='cuda:0')\n",
      "Loss gain: 9.72114372253418%\n",
      "Loss:  tensor(8883.8789, device='cuda:0')\n",
      "Loss gain: 9.743406295776367%\n",
      "Loss:  tensor(8660.4160, device='cuda:0')\n",
      "Loss gain: 9.750481605529785%\n",
      "Loss:  tensor(8442.4922, device='cuda:0')\n",
      "Loss gain: 9.729291915893555%\n",
      "Loss:  tensor(8226.7178, device='cuda:0')\n",
      "Loss gain: 9.786240577697754%\n",
      "Loss:  tensor(8018.0498, device='cuda:0')\n",
      "Loss gain: 9.74606990814209%\n",
      "Loss:  tensor(7812.5508, device='cuda:0')\n",
      "Loss gain: 9.790121078491211%\n",
      "Loss:  tensor(7613.0234, device='cuda:0')\n",
      "Loss gain: 9.824928283691406%\n",
      "Loss:  tensor(7415.4111, device='cuda:0')\n",
      "Loss gain: 9.86185073852539%\n",
      "Loss:  tensor(7225.0269, device='cuda:0')\n",
      "Loss gain: 9.890471458435059%\n",
      "Loss:  tensor(7039.7358, device='cuda:0')\n",
      "Loss gain: 9.891966819763184%\n",
      "Loss:  tensor(6855.2100, device='cuda:0')\n",
      "Loss gain: 9.954172134399414%\n",
      "Loss:  tensor(6679.2422, device='cuda:0')\n",
      "Loss gain: 9.9275541305542%\n",
      "Loss:  tensor(6503.5068, device='cuda:0')\n",
      "Loss gain: 9.986398696899414%\n",
      "Loss:  tensor(6336.0469, device='cuda:0')\n",
      "Loss gain: 9.995956420898438%\n",
      "Loss:  tensor(6168.7910, device='cuda:0')\n",
      "Loss gain: 10.01309871673584%\n",
      "Loss:  tensor(6005.5522, device='cuda:0')\n",
      "Loss gain: 10.086323738098145%\n",
      "Loss:  tensor(5849.7144, device='cuda:0')\n",
      "Loss gain: 10.052922248840332%\n",
      "Loss:  tensor(5693.8042, device='cuda:0')\n",
      "Loss gain: 10.136330604553223%\n",
      "Loss:  tensor(5542.3281, device='cuda:0')\n",
      "Loss gain: 10.155359268188477%\n",
      "Loss:  tensor(5395.2876, device='cuda:0')\n",
      "Loss gain: 10.161674499511719%\n",
      "Loss:  tensor(5253.9209, device='cuda:0')\n",
      "Loss gain: 10.185001373291016%\n",
      "Loss:  tensor(5113.8613, device='cuda:0')\n",
      "Loss gain: 10.185507774353027%\n",
      "Loss:  tensor(4979.3525, device='cuda:0')\n",
      "Loss gain: 10.157745361328125%\n",
      "Loss:  tensor(4848.7188, device='cuda:0')\n",
      "Loss gain: 10.130485534667969%\n",
      "Loss:  tensor(4722.4775, device='cuda:0')\n",
      "Loss gain: 10.1151762008667%\n",
      "Loss:  tensor(4602.1499, device='cuda:0')\n",
      "Loss gain: 10.00636100769043%\n",
      "Loss:  tensor(4483.9546, device='cuda:0')\n",
      "Loss gain: 9.949043273925781%\n",
      "Loss:  tensor(4370.9189, device='cuda:0')\n",
      "Loss gain: 9.854145050048828%\n",
      "Loss:  tensor(4262.2900, device='cuda:0')\n",
      "Loss gain: 9.744620323181152%\n",
      "Loss:  tensor(4158.0938, device='cuda:0')\n",
      "Loss gain: 9.648884773254395%\n",
      "Loss:  tensor(4059.6421, device='cuda:0')\n",
      "Loss gain: 9.462907791137695%\n",
      "Loss:  tensor(3963.8394, device='cuda:0')\n",
      "Loss gain: 9.313364028930664%\n",
      "Loss:  tensor(3871.7722, device='cuda:0')\n",
      "Loss gain: 9.16215991973877%\n",
      "Loss:  tensor(3783.0996, device='cuda:0')\n",
      "Loss gain: 9.018414497375488%\n",
      "Loss:  tensor(3698.7344, device='cuda:0')\n",
      "Loss gain: 8.89013671875%\n",
      "Loss:  tensor(3618.1738, device='cuda:0')\n",
      "Loss gain: 8.72047233581543%\n",
      "Loss:  tensor(3539.5242, device='cuda:0')\n",
      "Loss gain: 8.581291198730469%\n",
      "Loss:  tensor(3465.0410, device='cuda:0')\n",
      "Loss gain: 8.407354354858398%\n",
      "Loss:  tensor(3392.4021, device='cuda:0')\n",
      "Loss gain: 8.282084465026855%\n",
      "Loss:  tensor(3322.0723, device='cuda:0')\n",
      "Loss gain: 8.18372917175293%\n",
      "Loss:  tensor(3254.0322, device='cuda:0')\n",
      "Loss gain: 8.065828323364258%\n",
      "Loss:  tensor(3189.5359, device='cuda:0')\n",
      "Loss gain: 7.950992107391357%\n",
      "Loss:  tensor(3126.7539, device='cuda:0')\n",
      "Loss gain: 7.830680847167969%\n",
      "Loss:  tensor(3067.0371, device='cuda:0')\n",
      "Loss gain: 7.676990509033203%\n",
      "Loss:  tensor(3009.2441, device='cuda:0')\n",
      "Loss gain: 7.522607803344727%\n",
      "Loss:  tensor(2954.0410, device='cuda:0')\n",
      "Loss gain: 7.383358478546143%\n",
      "Loss:  tensor(2900.2002, device='cuda:0')\n",
      "Loss gain: 7.245652198791504%\n",
      "Loss:  tensor(2849.5879, device='cuda:0')\n",
      "Loss gain: 7.089878559112549%\n",
      "Loss:  tensor(2800.1472, device='cuda:0')\n",
      "Loss gain: 6.948486804962158%\n",
      "Loss:  tensor(2752.6433, device='cuda:0')\n",
      "Loss gain: 6.81770133972168%\n",
      "Loss:  tensor(2706.7056, device='cuda:0')\n",
      "Loss gain: 6.671767711639404%\n",
      "Loss:  tensor(2663.1304, device='cuda:0')\n",
      "Loss gain: 6.543315410614014%\n",
      "Loss:  tensor(2620.2927, device='cuda:0')\n",
      "Loss gain: 6.423036575317383%\n",
      "Loss:  tensor(2580.2878, device='cuda:0')\n",
      "Loss gain: 6.261453151702881%\n",
      "Loss:  tensor(2541.5869, device='cuda:0')\n",
      "Loss gain: 6.10035514831543%\n",
      "Loss:  tensor(2504.1074, device='cuda:0')\n",
      "Loss gain: 5.971279144287109%\n",
      "Loss:  tensor(2468.7795, device='cuda:0')\n",
      "Loss gain: 5.782299995422363%\n",
      "Loss:  tensor(2434.5381, device='cuda:0')\n",
      "Loss gain: 5.648584842681885%\n",
      "Loss:  tensor(2400.8633, device='cuda:0')\n",
      "Loss gain: 5.53684139251709%\n",
      "Loss:  tensor(2369.2305, device='cuda:0')\n",
      "Loss gain: 5.386229038238525%\n",
      "Loss:  tensor(2338.7234, device='cuda:0')\n",
      "Loss gain: 5.2680344581604%\n",
      "Loss:  tensor(2308.7698, device='cuda:0')\n",
      "Loss gain: 5.166003227233887%\n",
      "Loss:  tensor(2280.8081, device='cuda:0')\n",
      "Loss gain: 5.000500202178955%\n",
      "Loss:  tensor(2253.3867, device='cuda:0')\n",
      "Loss gain: 4.889509677886963%\n",
      "Loss:  tensor(2226.3401, device='cuda:0')\n",
      "Loss gain: 4.80532693862915%\n",
      "Loss:  tensor(2200.6628, device='cuda:0')\n",
      "Loss gain: 4.68244743347168%\n",
      "Loss:  tensor(2175.9697, device='cuda:0')\n",
      "Loss gain: 4.596545219421387%\n",
      "Loss:  tensor(2152.2583, device='cuda:0')\n",
      "Loss gain: 4.4878411293029785%\n",
      "Loss:  tensor(2128.1755, device='cuda:0')\n",
      "Loss gain: 4.409234046936035%\n",
      "Loss:  tensor(2106.3721, device='cuda:0')\n",
      "Loss gain: 4.284653186798096%\n",
      "Loss:  tensor(2084., device='cuda:0')\n",
      "Loss gain: 4.226608753204346%\n",
      "Loss:  tensor(2063.0811, device='cuda:0')\n",
      "Loss gain: 4.143426418304443%\n",
      "Loss:  tensor(2042.6726, device='cuda:0')\n",
      "Loss gain: 4.017663478851318%\n",
      "Loss:  tensor(2021.8838, device='cuda:0')\n",
      "Loss gain: 4.011080265045166%\n",
      "Loss:  tensor(2002.4255, device='cuda:0')\n",
      "Loss gain: 3.9143216609954834%\n",
      "Loss:  tensor(1983.5541, device='cuda:0')\n",
      "Loss gain: 3.8547675609588623%\n",
      "Loss:  tensor(1964.9177, device='cuda:0')\n",
      "Loss gain: 3.8065268993377686%\n",
      "Loss:  tensor(1947.1224, device='cuda:0')\n",
      "Loss gain: 3.697608709335327%\n",
      "Loss:  tensor(1929.8339, device='cuda:0')\n",
      "Loss gain: 3.625187397003174%\n"
     ]
    },
    {
     "name": "stdout",
     "output_type": "stream",
     "text": [
      "Loss:  tensor(1912.4871, device='cuda:0')\n",
      "Loss gain: 3.5828120708465576%\n",
      "Loss:  tensor(1896.1360, device='cuda:0')\n",
      "Loss gain: 3.5004894733428955%\n",
      "Loss:  tensor(1879.8977, device='cuda:0')\n",
      "Loss gain: 3.452517032623291%\n",
      "Loss:  tensor(1864.5049, device='cuda:0')\n",
      "Loss gain: 3.3852126598358154%\n",
      "Loss:  tensor(1848.8843, device='cuda:0')\n",
      "Loss gain: 3.3256583213806152%\n",
      "Loss:  tensor(1834.7109, device='cuda:0')\n",
      "Loss gain: 3.239485263824463%\n",
      "Loss:  tensor(1820.3926, device='cuda:0')\n",
      "Loss gain: 3.1653385162353516%\n",
      "Loss:  tensor(1806.1234, device='cuda:0')\n",
      "Loss gain: 3.131204843521118%\n",
      "Loss:  tensor(1792.7870, device='cuda:0')\n",
      "Loss gain: 3.034115791320801%\n",
      "Loss:  tensor(1779.4989, device='cuda:0')\n",
      "Loss gain: 3.0093045234680176%\n",
      "Loss:  tensor(1766.7959, device='cuda:0')\n",
      "Loss gain: 2.944237470626831%\n",
      "Loss:  tensor(1754.2927, device='cuda:0')\n",
      "Loss gain: 2.869720220565796%\n",
      "Loss:  tensor(1743.0256, device='cuda:0')\n",
      "Loss gain: 2.7756423950195312%\n",
      "Loss:  tensor(1731.1758, device='cuda:0')\n",
      "Loss gain: 2.7155463695526123%\n",
      "Loss:  tensor(1720.1727, device='cuda:0')\n",
      "Loss gain: 2.6388542652130127%\n",
      "Loss:  tensor(1709.5256, device='cuda:0')\n",
      "Loss gain: 2.5518598556518555%\n",
      "Loss:  tensor(1698.6400, device='cuda:0')\n",
      "Loss gain: 2.5464696884155273%\n",
      "Loss:  tensor(1688.6401, device='cuda:0')\n",
      "Loss gain: 2.457037925720215%\n",
      "Loss:  tensor(1678.4955, device='cuda:0')\n",
      "Loss gain: 2.4228525161743164%\n",
      "Loss:  tensor(1668.8674, device='cuda:0')\n",
      "Loss gain: 2.3783323764801025%\n",
      "Loss:  tensor(1659.6914, device='cuda:0')\n",
      "Loss gain: 2.29292893409729%\n",
      "Loss:  tensor(1650.3988, device='cuda:0')\n",
      "Loss gain: 2.264622926712036%\n",
      "Loss:  tensor(1641.4155, device='cuda:0')\n",
      "Loss gain: 2.209118604660034%\n",
      "Loss:  tensor(1632.6365, device='cuda:0')\n",
      "Loss gain: 2.1709907054901123%\n",
      "Loss:  tensor(1624.1091, device='cuda:0')\n",
      "Loss gain: 2.143908977508545%\n",
      "Loss:  tensor(1616.0292, device='cuda:0')\n",
      "Loss gain: 2.0825045108795166%\n",
      "Loss:  tensor(1607.5400, device='cuda:0')\n",
      "Loss gain: 2.0637972354888916%\n",
      "Loss:  tensor(1599.9110, device='cuda:0')\n",
      "Loss gain: 2.004455089569092%\n",
      "Loss:  tensor(1591.9838, device='cuda:0')\n",
      "Loss gain: 1.9780300855636597%\n",
      "Loss:  tensor(1584.4856, device='cuda:0')\n",
      "Loss gain: 1.9519189596176147%\n",
      "Loss:  tensor(1577.2415, device='cuda:0')\n",
      "Loss gain: 1.8847795724868774%\n",
      "Loss:  tensor(1569.7188, device='cuda:0')\n",
      "Loss gain: 1.8871212005615234%\n",
      "Loss:  tensor(1562.8715, device='cuda:0')\n",
      "Loss gain: 1.8286809921264648%\n",
      "Loss:  tensor(1555.9531, device='cuda:0')\n",
      "Loss gain: 1.800740361213684%\n",
      "Loss:  tensor(1549.4712, device='cuda:0')\n",
      "Loss gain: 1.760685682296753%\n",
      "Loss:  tensor(1542.6299, device='cuda:0')\n",
      "Loss gain: 1.7257146835327148%\n",
      "Loss:  tensor(1536.0176, device='cuda:0')\n",
      "Loss gain: 1.7182400226593018%\n",
      "Loss:  tensor(1529.6464, device='cuda:0')\n",
      "Loss gain: 1.6907168626785278%\n",
      "Loss:  tensor(1523.6677, device='cuda:0')\n",
      "Loss gain: 1.6653079986572266%\n",
      "Loss:  tensor(1517.5034, device='cuda:0')\n",
      "Loss gain: 1.6288069486618042%\n",
      "Loss:  tensor(1511.6873, device='cuda:0')\n",
      "Loss gain: 1.5839872360229492%\n",
      "Loss:  tensor(1505.8425, device='cuda:0')\n",
      "Loss gain: 1.5561658143997192%\n",
      "Loss:  tensor(1500.1355, device='cuda:0')\n",
      "Loss gain: 1.5444461107254028%\n",
      "Loss:  tensor(1494.5322, device='cuda:0')\n",
      "Loss gain: 1.5137488842010498%\n",
      "Loss:  tensor(1489.0447, device='cuda:0')\n",
      "Loss gain: 1.4978348016738892%\n",
      "Loss:  tensor(1483.5537, device='cuda:0')\n",
      "Loss gain: 1.4801559448242188%\n",
      "Loss:  tensor(1478.2976, device='cuda:0')\n",
      "Loss gain: 1.4557278156280518%\n",
      "Loss:  tensor(1473.2596, device='cuda:0')\n",
      "Loss gain: 1.4233605861663818%\n",
      "Loss:  tensor(1468.1377, device='cuda:0')\n",
      "Loss gain: 1.4040534496307373%\n",
      "Loss:  tensor(1463.0857, device='cuda:0')\n",
      "Loss gain: 1.3796613216400146%\n",
      "Loss:  tensor(1458.4385, device='cuda:0')\n",
      "Loss gain: 1.3433784246444702%\n",
      "Loss:  tensor(1453.4976, device='cuda:0')\n",
      "Loss gain: 1.3413851261138916%\n",
      "Loss:  tensor(1449.0535, device='cuda:0')\n",
      "Loss gain: 1.2998936176300049%\n",
      "Loss:  tensor(1444.4520, device='cuda:0')\n",
      "Loss gain: 1.2735868692398071%\n",
      "Loss:  tensor(1440.1355, device='cuda:0')\n",
      "Loss gain: 1.254970908164978%\n",
      "Loss:  tensor(1435.7396, device='cuda:0')\n",
      "Loss gain: 1.2217382192611694%\n",
      "Loss:  tensor(1431.5311, device='cuda:0')\n",
      "Loss gain: 1.2092264890670776%\n",
      "Loss:  tensor(1427.3416, device='cuda:0')\n",
      "Loss gain: 1.1845650672912598%\n",
      "Loss:  tensor(1423.2000, device='cuda:0')\n",
      "Loss gain: 1.1759690046310425%\n",
      "Loss:  tensor(1419.3545, device='cuda:0')\n",
      "Loss gain: 1.1412328481674194%\n",
      "Loss:  tensor(1415.4921, device='cuda:0')\n",
      "Loss gain: 1.120413064956665%\n",
      "Loss:  tensor(1411.6252, device='cuda:0')\n",
      "Loss gain: 1.101089596748352%\n",
      "Loss:  tensor(1407.8137, device='cuda:0')\n",
      "Loss gain: 1.0811011791229248%\n",
      "Loss:  tensor(1404.4584, device='cuda:0')\n",
      "Loss gain: 1.04949951171875%\n",
      "Loss:  tensor(1400.7611, device='cuda:0')\n",
      "Loss gain: 1.0406951904296875%\n",
      "Loss:  tensor(1397.2123, device='cuda:0')\n",
      "Loss gain: 1.0210191011428833%\n",
      "Loss:  tensor(1394.0078, device='cuda:0')\n",
      "Loss gain: 0.980663001537323%\n"
     ]
    }
   ],
   "source": [
    "loss_function = nn.CrossEntropyLoss()\n",
    "net = Word2Vec(embedding_size=embedding_size, vocab_size=vocabulary_size)\n",
    "optimizer = optim.Adam(net.parameters())\n",
    "early_stopping = EarlyStopping(patience=5, min_percent_gain=1)\n",
    "\n",
    "while True:\n",
    "    losses = []\n",
    "    context_tuple_batches = get_batches(context_tuple_list, batch_size=2000)\n",
    "    for i in range(len(context_tuple_batches)):\n",
    "        net.zero_grad()\n",
    "        target_tensor, context_tensor, negative_tensor = context_tuple_batches[i]\n",
    "        loss = net(target_tensor, context_tensor, negative_tensor)\n",
    "        loss.backward()\n",
    "        optimizer.step()\n",
    "        losses.append(loss.data)\n",
    "    print(\"Loss: \", torch.mean(torch.stack(losses)))\n",
    "    early_stopping.update_loss(torch.mean(torch.stack(losses)))\n",
    "    if early_stopping.stop() is True:\n",
    "        break"
   ]
  },
  {
   "cell_type": "code",
   "execution_count": 22,
   "metadata": {},
   "outputs": [
    {
     "name": "stdout",
     "output_type": "stream",
     "text": [
      "EMBEDDINGS.shape:  torch.Size([14, 100])\n",
      "1\n",
      "2\n",
      "3\n",
      "4\n",
      "5\n",
      "6\n",
      "7\n",
      "8\n"
     ]
    },
    {
     "data": {
      "image/png": "[encoded data removed]",
      "text/plain": [
       "<Figure size 432x288 with 1 Axes>"
      ]
     },
     "metadata": {
      "needs_background": "light"
     },
     "output_type": "display_data"
    }
   ],
   "source": [
    "EMBEDDINGS = net.target.weight.data.cpu()\n",
    "print('EMBEDDINGS.shape: ', EMBEDDINGS.shape)\n",
    "\n",
    "iris = load_iris()\n",
    "x = iris.data\n",
    "\n",
    "res = []\n",
    "n_cluster = range(1,9)\n",
    "for n in n_cluster:\n",
    "    print(n)\n",
    "    kmeans = KMeans(n_clusters=n)\n",
    "    kmeans.fit(EMBEDDINGS)\n",
    "    res.append(np.average(np.min(cdist(EMBEDDINGS, kmeans.cluster_centers_, 'euclidean'), axis=1)))\n",
    "        \n",
    "plt.plot(n_cluster, res)\n",
    "plt.title('elbow curve')\n",
    "plt.show()"
   ]
  },
  {
   "cell_type": "code",
   "execution_count": 23,
   "metadata": {},
   "outputs": [
    {
     "data": {
      "image/png": "[encoded data removed]",
      "text/plain": [
       "<Figure size 360x360 with 1 Axes>"
      ]
     },
     "metadata": {
      "needs_background": "light"
     },
     "output_type": "display_data"
    }
   ],
   "source": [
    "# see the 2D class segments embedding\n",
    "cluster_number=6\n",
    "kmeans_best = KMeans(n_clusters=cluster_number).fit_predict(EMBEDDINGS)\n",
    "pca = PCA(n_components=2).fit_transform(EMBEDDINGS)\n",
    "EMBEDDINGS = net.target.weight.data.cpu()\n",
    "\n",
    "plt.figure(figsize = (5, 5))\n",
    "for i in range(vocabulary_size):\n",
    "    # print('vocab_idx: ', vocab_idx)\n",
    "    plt.scatter(pca[i][0], pca[i][1],color=plt.cm.RdYlBu(kmeans_best[i]/4))\n",
    "    plt.annotate(index_to_word[i], xy = (pca[i][0], pca[i][1]), \\\n",
    "        ha='right',va='bottom')\n",
    "plt.savefig(\"w2v.png\")\n",
    "plt.show()"
   ]
  },
  {
   "cell_type": "code",
   "execution_count": 24,
   "metadata": {},
   "outputs": [
    {
     "name": "stdout",
     "output_type": "stream",
     "text": [
      "{'0': array([ 6, 13], dtype=int64), '1': array([ 3,  5,  7, 10], dtype=int64), '2': array([ 4,  8, 12], dtype=int64), '3': array([1, 9], dtype=int64), '4': array([ 2, 11], dtype=int64), '5': array([14], dtype=int64)}\n"
     ]
    }
   ],
   "source": [
    "word_to_cluster={}\n",
    "for i in range(cluster_number):\n",
    "    word_to_cluster[str(i)]= np.array(np.where(kmeans_best==i)).ravel()+1\n",
    "#for i in range(1,vocabulary_size+1):\n",
    "#    word_to_cluster.append((i,kmeans_best[word_to_index[str(i)]]))\n",
    "print(word_to_cluster)"
   ]
  },
  {
   "cell_type": "code",
   "execution_count": 25,
   "metadata": {},
   "outputs": [],
   "source": [
    "#using the histogram method to cluster \n",
    "\n",
    "#cluster_corpus=corpus[:]\n",
    "#for i in range(cluster_number):\n",
    "#    cluster_lst=list(word_to_cluster[str(i)])\n",
    "#    for j in range(len(cluster_corpus)):\n",
    "#        filament=cluster_corpus[j]\n",
    "#        filament=[i if np.int64(x) in cluster_lst else x for x in filament]\n",
    "#        cluster_corpus[j]=filament\n",
    "\n",
    "#filament_cluster_percentage=[]\n",
    "#for filament in cluster_corpus:\n",
    "#    filament_lenghth=len(filament)\n",
    "#    pert=[]\n",
    "#    for i in range(cluster_number):\n",
    "#        cluster_per=float(filament.count(i))/filament_lenghth\n",
    "#        pert.append(cluster_per)\n",
    "#    filament_cluster_percentage.append(pert)\n",
    "\n",
    "#histogram clustering\n",
    "#pca_filaments = PCA(n_components=2).fit_transform(filament_cluster_percentage)\n",
    "#plt.figure(figsize = (5, 5))\n",
    "#for i in range(len(cluster_corpus)):\n",
    "#    plt.scatter(pca_filaments[i][0], pca_filaments[i][1],color='blue')\n",
    "#plt.savefig(\"cluster.png\")\n",
    "#plt.show()"
   ]
  },
  {
   "cell_type": "code",
   "execution_count": 26,
   "metadata": {},
   "outputs": [
    {
     "name": "stdout",
     "output_type": "stream",
     "text": [
      "170\n",
      "160\n",
      "149\n",
      "146\n",
      "169\n",
      "155\n",
      "139\n",
      "133\n",
      "164\n",
      "164\n",
      "150\n",
      "159\n",
      "132\n",
      "131\n",
      "156\n",
      "128\n",
      "150\n",
      "122\n",
      "127\n",
      "131\n",
      "144\n",
      "145\n",
      "134\n",
      "147\n",
      "150\n",
      "145\n",
      "126\n",
      "315\n",
      "143\n",
      "172\n",
      "135\n",
      "133\n",
      "130\n",
      "130\n",
      "169\n",
      "143\n",
      "133\n"
     ]
    }
   ],
   "source": [
    "filament_cluster_number=2\n",
    "filament_score=[]\n",
    "for filament in corpus:\n",
    "    score=torch.zeros(embedding_size)\n",
    "    counts=0\n",
    "    for i in filament:\n",
    "        if int(i) in ignore_classes:\n",
    "            continue\n",
    "        counts+=1\n",
    "        score=score+EMBEDDINGS[word_to_index[i]]\n",
    "    if counts==0:\n",
    "        continue\n",
    "    score=score/counts\n",
    "    print(counts)\n",
    "    filament_score.append(np.array(score))"
   ]
  },
  {
   "cell_type": "code",
   "execution_count": 27,
   "metadata": {},
   "outputs": [],
   "source": [
    "#print(filament_score)\n",
    "from sklearn.mixture import GaussianMixture\n",
    "pca_sum = PCA(n_components=2).fit_transform(filament_score)\n",
    "cluster_pca = KMeans(n_clusters=filament_cluster_number).fit_predict(pca_sum)"
   ]
  },
  {
   "cell_type": "code",
   "execution_count": 28,
   "metadata": {},
   "outputs": [
    {
     "data": {
      "image/png": "[encoded data removed]",
      "text/plain": [
       "<Figure size 1440x1440 with 1 Axes>"
      ]
     },
     "metadata": {
      "needs_background": "light"
     },
     "output_type": "display_data"
    }
   ],
   "source": [
    "plt.figure(figsize = (20, 20))\n",
    "for i in range(len(corpus)):\n",
    "    plt.scatter(pca_sum[i][0], pca_sum[i][1],color='blue')\n",
    "plt.savefig(output_path+'/'+os.path.splitext(file_name)[0]+\"_pca.png\",bbox_inches='tight', pad_inches=0.01)\n",
    "plt.show()\n",
    "# color=plt.cm.RdYlBu(pca_Clustering[i]/4)"
   ]
  },
  {
   "cell_type": "code",
   "execution_count": 36,
   "metadata": {},
   "outputs": [],
   "source": [
    "import umap\n",
    "from sklearn.cluster import SpectralClustering\n",
    "from sklearn.mixture import GaussianMixture\n",
    "reducer = umap.UMAP()\n",
    "umap = reducer.fit_transform(filament_score)\n",
    "cluster_umap = SpectralClustering(n_clusters=2).fit_predict(umap)"
   ]
  },
  {
   "cell_type": "code",
   "execution_count": 37,
   "metadata": {
    "scrolled": true
   },
   "outputs": [
    {
     "data": {
      "image/png": "[encoded data removed]",
      "text/plain": [
       "<Figure size 1440x1440 with 1 Axes>"
      ]
     },
     "metadata": {
      "needs_background": "light"
     },
     "output_type": "display_data"
    }
   ],
   "source": [
    "plt.figure(figsize = (20, 20))\n",
    "for i in range(len(corpus)):\n",
    "    plt.scatter(umap[i][0], umap[i][1],color=plt.cm.RdYlBu(cluster_umap[i]/4))\n",
    "plt.savefig(output_path+'/'+os.path.splitext(file_name)[0]+\"_ignore_umap.png\",bbox_inches='tight', pad_inches=0.01)\n",
    "plt.show()\n",
    "# color=plt.cm.RdYlBu(kmeans_umap[i]/4)"
   ]
  },
  {
   "cell_type": "code",
   "execution_count": null,
   "metadata": {},
   "outputs": [],
   "source": [
    "#from sklearn.manifold import MDS\n",
    "#MDS = MDS(n_components=2).fit_transform(filament_score)"
   ]
  },
  {
   "cell_type": "code",
   "execution_count": null,
   "metadata": {},
   "outputs": [],
   "source": [
    "#plt.figure(figsize = (20, 20))\n",
    "#for i in range(len(cluster_corpus)):\n",
    "#    plt.scatter(MDS[i][0], MDS[i][1],color='blue')\n",
    "#plt.savefig(os.path.splitext(file_path)[0]+\"_MDS.png\")\n",
    "#plt.show()"
   ]
  },
  {
   "cell_type": "code",
   "execution_count": null,
   "metadata": {},
   "outputs": [],
   "source": [
    "for i in range(filament_cluster_number):\n",
    "    cluster_name='cluster'+str(i)\n",
    "    cluster_nameID='clusterID'+str(i)\n",
    "    locals()[cluster_name]=[]\n",
    "    locals()[cluster_nameID]=[]\n",
    "data_line=0\n",
    "cluster_choice=cluster_umap\n",
    "for i in range(len(cluster_choice)):\n",
    "    lst=corpus[i]\n",
    "    cluster_number=cluster_choice[i]\n",
    "    cluster_name='cluster'+str(cluster_number)\n",
    "    cluster_nameID='clusterID'+str(cluster_number)\n",
    "    for j in range(len(lst)):\n",
    "        locals()[cluster_name].append(data[data_line])\n",
    "        locals()[cluster_nameID].append(data[data_line][6][19:21])\n",
    "        data_line+=1"
   ]
  },
  {
   "cell_type": "code",
   "execution_count": null,
   "metadata": {},
   "outputs": [],
   "source": [
    "# check rate of successful\n",
    "labels=['38','29']\n",
    "distribution_hist_all=[]\n",
    "for i in range(filament_cluster_number):\n",
    "    distribution_hist=[]\n",
    "    lst=locals()['clusterID'+str(i)]\n",
    "    for j in range(filament_cluster_number):\n",
    "        group_percentage=lst.count(labels[j])/len(lst)\n",
    "        distribution_hist.append(group_percentage)\n",
    "    distribution_hist_all.append(distribution_hist)\n",
    "print(distribution_hist_all)"
   ]
  },
  {
   "cell_type": "code",
   "execution_count": null,
   "metadata": {},
   "outputs": [],
   "source": [
    "print(len(data),len(cluster0),len(cluster1))"
   ]
  },
  {
   "cell_type": "code",
   "execution_count": null,
   "metadata": {
    "scrolled": true
   },
   "outputs": [],
   "source": [
    "fig, ax = plt.subplots(1,filament_cluster_number)\n",
    "labels_name=['PHF','SF']\n",
    "for i in range(filament_cluster_number):\n",
    "    ax[i].bar(range(filament_cluster_number),distribution_hist_all[i],tick_label =labels_name)\n",
    "    particle_number=len(locals()['cluster'+str(i)])\n",
    "    ax[i].set_title('cluster{} amount: {}'.format(i,particle_number))\n",
    "#plt.savefig('./confusion_matrix/'+\"10230_tau_distr_Loss_per10-2.png\")"
   ]
  },
  {
   "cell_type": "code",
   "execution_count": null,
   "metadata": {},
   "outputs": [],
   "source": [
    "# write relion"
   ]
  },
  {
   "cell_type": "code",
   "execution_count": null,
   "metadata": {},
   "outputs": [],
   "source": [
    "for i in range(filament_cluster_number):\n",
    "    cluster_name='cluster'+str(i)\n",
    "    data_cluster=locals()[cluster_name]\n",
    "    if relion_31 is True:\n",
    "        output=process_relion.output_star(output_path+'/'+file_name,i,data_cluster,metadata)\n",
    "        output.opticgroup(optics)\n",
    "        output.writecluster()\n",
    "    else:\n",
    "        output=process_relion.output_star(output_path+'/'+file_name,i,data_cluster,metadata)\n",
    "        output.writemetadata()\n",
    "        output.writecluster()"
   ]
  },
  {
   "cell_type": "code",
   "execution_count": null,
   "metadata": {},
   "outputs": [],
   "source": [
    "with open('cluster_umap.npy', 'wb') as f:\n",
    "    np.save(f, umap)"
   ]
  },
  {
   "cell_type": "code",
   "execution_count": null,
   "metadata": {},
   "outputs": [],
   "source": []
  },
  {
   "cell_type": "code",
   "execution_count": null,
   "metadata": {},
   "outputs": [],
   "source": []
  }
 ],
 "metadata": {
  "kernelspec": {
   "display_name": "Python 3",
   "language": "python",
   "name": "python3"
  },
  "language_info": {
   "codemirror_mode": {
    "name": "ipython",
    "version": 3
   },
   "file_extension": ".py",
   "mimetype": "text/x-python",
   "name": "python",
   "nbconvert_exporter": "python",
   "pygments_lexer": "ipython3",
   "version": "3.7.4"
  },
  "toc": {
   "base_numbering": 1,
   "nav_menu": {},
   "number_sections": true,
   "sideBar": true,
   "skip_h1_title": false,
   "title_cell": "Table of Contents",
   "title_sidebar": "Contents",
   "toc_cell": false,
   "toc_position": {},
   "toc_section_display": true,
   "toc_window_display": false
  },
  "varInspector": {
   "cols": {
    "lenName": 16,
    "lenType": 16,
    "lenVar": 40
   },
   "kernels_config": {
    "python": {
     "delete_cmd_postfix": "",
     "delete_cmd_prefix": "del ",
     "library": "var_list.py",
     "varRefreshCmd": "print(var_dic_list())"
    },
    "r": {
     "delete_cmd_postfix": ") ",
     "delete_cmd_prefix": "rm(",
     "library": "var_list.r",
     "varRefreshCmd": "cat(var_dic_list()) "
    }
   },
   "types_to_exclude": [
    "module",
    "function",
    "builtin_function_or_method",
    "instance",
    "_Feature"
   ],
   "window_display": false
  }
 },
 "nbformat": 4,
 "nbformat_minor": 2
}
